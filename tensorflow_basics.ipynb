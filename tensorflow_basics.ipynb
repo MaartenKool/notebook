{
  "nbformat": 4,
  "nbformat_minor": 0,
  "metadata": {
    "colab": {
      "name": "tensorflow_basics.ipynb",
      "version": "0.3.2",
      "provenance": [],
      "include_colab_link": true
    },
    "kernelspec": {
      "display_name": "tensorflow_12",
      "language": "python",
      "name": "tensorflow_12"
    }
  },
  "cells": [
    {
      "cell_type": "markdown",
      "metadata": {
        "id": "view-in-github",
        "colab_type": "text"
      },
      "source": [
        "<a href=\"https://colab.research.google.com/github/MaartenKool/notebook/blob/master/tensorflow_basics.ipynb\" target=\"_parent\"><img src=\"https://colab.research.google.com/assets/colab-badge.svg\" alt=\"Open In Colab\"/></a>"
      ]
    },
    {
      "metadata": {
        "id": "PKbIdhFZITyu",
        "colab_type": "text"
      },
      "cell_type": "markdown",
      "source": [
        "# TensorFlow API Intro\n",
        "\n",
        "_Author: Christoph Rahmede_"
      ]
    },
    {
      "metadata": {
        "toc": true,
        "id": "c3R91PFmITyx",
        "colab_type": "text"
      },
      "cell_type": "markdown",
      "source": [
        "<h1>Table of Contents<span class=\"tocSkip\"></span></h1>\n",
        "<div class=\"toc\"><ul class=\"toc-item\"><li><span><a href=\"#Regression-model\" data-toc-modified-id=\"Regression-model-1\">Regression model</a></span><ul class=\"toc-item\"><li><span><a href=\"#Rescaling\" data-toc-modified-id=\"Rescaling-1.1\">Rescaling</a></span></li><li><span><a href=\"#Scikit-Learn-fit-for-reference\" data-toc-modified-id=\"Scikit-Learn-fit-for-reference-1.2\">Scikit-Learn fit for reference</a></span></li><li><span><a href=\"#Linear-regression-algebraically-with-numpy\" data-toc-modified-id=\"Linear-regression-algebraically-with-numpy-1.3\">Linear regression algebraically with numpy</a></span></li><li><span><a href=\"#Linear-regression-algebraically-with-TensorFlow\" data-toc-modified-id=\"Linear-regression-algebraically-with-TensorFlow-1.4\">Linear regression algebraically with TensorFlow</a></span></li><li><span><a href=\"#Create-TensorFlow-variables\" data-toc-modified-id=\"Create-TensorFlow-variables-1.5\">Create TensorFlow variables</a></span></li><li><span><a href=\"#Define-the-model-parameters\" data-toc-modified-id=\"Define-the-model-parameters-1.6\">Define the model parameters</a></span></li><li><span><a href=\"#Loss-function\" data-toc-modified-id=\"Loss-function-1.7\">Loss function</a></span></li><li><span><a href=\"#Optimizer\" data-toc-modified-id=\"Optimizer-1.8\">Optimizer</a></span></li><li><span><a href=\"#Number-of-epochs\" data-toc-modified-id=\"Number-of-epochs-1.9\">Number of epochs</a></span></li><li><span><a href=\"#Training-session\" data-toc-modified-id=\"Training-session-1.10\">Training session</a></span></li><li><span><a href=\"#Plot-MSE-versus-Epochs\" data-toc-modified-id=\"Plot-MSE-versus-Epochs-1.11\">Plot MSE versus Epochs</a></span></li></ul></li><li><span><a href=\"#Code-summary-for-optimization\" data-toc-modified-id=\"Code-summary-for-optimization-2\">Code summary for optimization</a></span></li><li><span><a href=\"#Name-scopes\" data-toc-modified-id=\"Name-scopes-3\">Name scopes</a></span></li><li><span><a href=\"#Resources\" data-toc-modified-id=\"Resources-4\">Resources</a></span></li></ul></div>"
      ]
    },
    {
      "metadata": {
        "id": "6eRm5chVITy9",
        "colab_type": "code",
        "colab": {}
      },
      "cell_type": "code",
      "source": [
        "import pandas as pd\n",
        "import numpy as np\n",
        "import matplotlib.pyplot as plt\n",
        "import seaborn as sns\n",
        "sns.set(font_scale=1.5)\n",
        "\n",
        "%config InlineBackend.figure_format = 'retina'\n",
        "%matplotlib inline"
      ],
      "execution_count": 0,
      "outputs": []
    },
    {
      "metadata": {
        "id": "BWh6ZY2HITzI",
        "colab_type": "code",
        "colab": {}
      },
      "cell_type": "code",
      "source": [
        "import tensorflow as tf"
      ],
      "execution_count": 0,
      "outputs": []
    },
    {
      "metadata": {
        "id": "GeCNvadnITzO",
        "colab_type": "text"
      },
      "cell_type": "markdown",
      "source": [
        "TensorFlow is a general purpose framework not just for neural networks, but for any large scale computations.\n",
        "Similar to what we have seen in the context of pymc3, TensorFlow works with computational graphs and tensor variables. Before doing any computation, we are going to set up the architecture by defining the operations that we want to carry out. After this \"construction phase\" we can launch the execution phase through a TensorFlow session. We could work interactively, but the preferred way is to work within a context manager."
      ]
    },
    {
      "metadata": {
        "id": "OPnpLU9TITzP",
        "colab_type": "text"
      },
      "cell_type": "markdown",
      "source": [
        "As a first example, let's define a very simple computation. We set up a few variables, give them a name and combine:"
      ]
    },
    {
      "metadata": {
        "id": "CiL-Auh5ITzR",
        "colab_type": "code",
        "colab": {
          "base_uri": "https://localhost:8080/",
          "height": 88
        },
        "outputId": "be26b5c6-9470-4ed7-99c3-8b827cecce88"
      },
      "cell_type": "code",
      "source": [
        "x = tf.Variable(2, name='x')\n",
        "y = tf.Variable(7, name='y')\n",
        "f = x*y+y**2-21"
      ],
      "execution_count": 7,
      "outputs": [
        {
          "output_type": "stream",
          "text": [
            "WARNING:tensorflow:From /usr/local/lib/python2.7/dist-packages/tensorflow/python/framework/op_def_library.py:263: colocate_with (from tensorflow.python.framework.ops) is deprecated and will be removed in a future version.\n",
            "Instructions for updating:\n",
            "Colocations handled automatically by placer.\n"
          ],
          "name": "stdout"
        }
      ]
    },
    {
      "metadata": {
        "id": "N2xauT1PITzV",
        "colab_type": "code",
        "colab": {
          "base_uri": "https://localhost:8080/",
          "height": 34
        },
        "outputId": "f0325ded-b614-4c97-cce6-6e6c4f6b2441"
      },
      "cell_type": "code",
      "source": [
        "x"
      ],
      "execution_count": 8,
      "outputs": [
        {
          "output_type": "execute_result",
          "data": {
            "text/plain": [
              "<tf.Variable 'x:0' shape=() dtype=int32_ref>"
            ]
          },
          "metadata": {
            "tags": []
          },
          "execution_count": 8
        }
      ]
    },
    {
      "metadata": {
        "id": "74gwdUAUITzc",
        "colab_type": "text"
      },
      "cell_type": "markdown",
      "source": [
        "To obtain the result, we run a TensorFlow session within a context manager. Inside the context manager, we have to initialize all the variables. Then we can evaluate variables."
      ]
    },
    {
      "metadata": {
        "id": "FgOGt2gPITzd",
        "colab_type": "code",
        "colab": {}
      },
      "cell_type": "code",
      "source": [
        "with tf.Session() as sess:\n",
        "    x.initializer.run()\n",
        "    y.initializer.run()\n",
        "    result = f.eval()"
      ],
      "execution_count": 0,
      "outputs": []
    },
    {
      "metadata": {
        "id": "aY-8Bu5yITzi",
        "colab_type": "code",
        "colab": {
          "base_uri": "https://localhost:8080/",
          "height": 34
        },
        "outputId": "fdaebb70-be74-4671-a45f-c8521b6970ed"
      },
      "cell_type": "code",
      "source": [
        "print(result)"
      ],
      "execution_count": 10,
      "outputs": [
        {
          "output_type": "stream",
          "text": [
            "42\n"
          ],
          "name": "stdout"
        }
      ]
    },
    {
      "metadata": {
        "id": "9znHBD76ITzw",
        "colab_type": "text"
      },
      "cell_type": "markdown",
      "source": [
        "In general, we will have to initialize many variables. We can do that in one go as below:"
      ]
    },
    {
      "metadata": {
        "id": "vqMH2qpsITzy",
        "colab_type": "code",
        "colab": {
          "base_uri": "https://localhost:8080/",
          "height": 51
        },
        "outputId": "0aaef7a3-4027-4e5e-c64e-f1800cf753e0"
      },
      "cell_type": "code",
      "source": [
        "init = tf.global_variables_initializer()\n",
        "\n",
        "with tf.Session() as sess:\n",
        "    init.run()\n",
        "    result_1 = f.eval()\n",
        "    result_2 = sess.run(f)\n",
        "\n",
        "print(result_1)\n",
        "print(result_2)"
      ],
      "execution_count": 11,
      "outputs": [
        {
          "output_type": "stream",
          "text": [
            "42\n",
            "42\n"
          ],
          "name": "stdout"
        }
      ]
    },
    {
      "metadata": {
        "id": "jOqGWkKcITz4",
        "colab_type": "text"
      },
      "cell_type": "markdown",
      "source": [
        "The operations where defined in a computational graph to which all new variables are added.\n",
        "Note that if you run the cell defining the variables repeatedly, new variables will be added to the graph."
      ]
    },
    {
      "metadata": {
        "id": "FkIBxiyZITz5",
        "colab_type": "code",
        "colab": {
          "base_uri": "https://localhost:8080/",
          "height": 34
        },
        "outputId": "7b59dba9-093e-4a48-d8d2-64de90cd9aca"
      },
      "cell_type": "code",
      "source": [
        "x"
      ],
      "execution_count": 12,
      "outputs": [
        {
          "output_type": "execute_result",
          "data": {
            "text/plain": [
              "<tf.Variable 'x:0' shape=() dtype=int32_ref>"
            ]
          },
          "metadata": {
            "tags": []
          },
          "execution_count": 12
        }
      ]
    },
    {
      "metadata": {
        "id": "UHCWCb2DITz-",
        "colab_type": "text"
      },
      "cell_type": "markdown",
      "source": [
        "We can refer to the computational graph."
      ]
    },
    {
      "metadata": {
        "id": "iVUfVqO3ITz_",
        "colab_type": "code",
        "colab": {}
      },
      "cell_type": "code",
      "source": [
        "g = tf.get_default_graph()"
      ],
      "execution_count": 0,
      "outputs": []
    },
    {
      "metadata": {
        "id": "wHD9iFaCIT0G",
        "colab_type": "text"
      },
      "cell_type": "markdown",
      "source": [
        "We can refer to specific variables and operations."
      ]
    },
    {
      "metadata": {
        "id": "KlWoebZjIT0J",
        "colab_type": "code",
        "colab": {
          "base_uri": "https://localhost:8080/",
          "height": 34
        },
        "outputId": "03033835-2ca0-47a9-97e7-a6b54ad12010"
      },
      "cell_type": "code",
      "source": [
        "g.get_all_collection_keys()"
      ],
      "execution_count": 14,
      "outputs": [
        {
          "output_type": "execute_result",
          "data": {
            "text/plain": [
              "['variables', 'trainable_variables']"
            ]
          },
          "metadata": {
            "tags": []
          },
          "execution_count": 14
        }
      ]
    },
    {
      "metadata": {
        "id": "X9f7CvmoIT0N",
        "colab_type": "code",
        "colab": {
          "base_uri": "https://localhost:8080/",
          "height": 51
        },
        "outputId": "512fba0b-8319-48e4-abfc-7db9958f252d"
      },
      "cell_type": "code",
      "source": [
        "g.get_collection('trainable_variables')"
      ],
      "execution_count": 15,
      "outputs": [
        {
          "output_type": "execute_result",
          "data": {
            "text/plain": [
              "[<tf.Variable 'x:0' shape=() dtype=int32_ref>,\n",
              " <tf.Variable 'y:0' shape=() dtype=int32_ref>]"
            ]
          },
          "metadata": {
            "tags": []
          },
          "execution_count": 15
        }
      ]
    },
    {
      "metadata": {
        "id": "d-duxzc4IT0U",
        "colab_type": "code",
        "colab": {
          "base_uri": "https://localhost:8080/",
          "height": 51
        },
        "outputId": "4134d88a-6e15-422b-b7d3-cffadd99dfc9"
      },
      "cell_type": "code",
      "source": [
        "g.get_collection('variables')"
      ],
      "execution_count": 16,
      "outputs": [
        {
          "output_type": "execute_result",
          "data": {
            "text/plain": [
              "[<tf.Variable 'x:0' shape=() dtype=int32_ref>,\n",
              " <tf.Variable 'y:0' shape=() dtype=int32_ref>]"
            ]
          },
          "metadata": {
            "tags": []
          },
          "execution_count": 16
        }
      ]
    },
    {
      "metadata": {
        "id": "hzvuKxFcIT0f",
        "colab_type": "code",
        "colab": {
          "base_uri": "https://localhost:8080/",
          "height": 272
        },
        "outputId": "57ddf029-0204-4d01-e944-2b3810bb1c57"
      },
      "cell_type": "code",
      "source": [
        "g.get_operations()"
      ],
      "execution_count": 17,
      "outputs": [
        {
          "output_type": "execute_result",
          "data": {
            "text/plain": [
              "[<tf.Operation 'x/initial_value' type=Const>,\n",
              " <tf.Operation 'x' type=VariableV2>,\n",
              " <tf.Operation 'x/Assign' type=Assign>,\n",
              " <tf.Operation 'x/read' type=Identity>,\n",
              " <tf.Operation 'y/initial_value' type=Const>,\n",
              " <tf.Operation 'y' type=VariableV2>,\n",
              " <tf.Operation 'y/Assign' type=Assign>,\n",
              " <tf.Operation 'y/read' type=Identity>,\n",
              " <tf.Operation 'mul' type=Mul>,\n",
              " <tf.Operation 'pow/y' type=Const>,\n",
              " <tf.Operation 'pow' type=Pow>,\n",
              " <tf.Operation 'add' type=Add>,\n",
              " <tf.Operation 'sub/y' type=Const>,\n",
              " <tf.Operation 'sub' type=Sub>,\n",
              " <tf.Operation 'init' type=NoOp>]"
            ]
          },
          "metadata": {
            "tags": []
          },
          "execution_count": 17
        }
      ]
    },
    {
      "metadata": {
        "id": "9YKKJPh4IT1B",
        "colab_type": "code",
        "colab": {
          "base_uri": "https://localhost:8080/",
          "height": 34
        },
        "outputId": "b1608af2-78d2-478e-9c08-3d2d92a401cc"
      },
      "cell_type": "code",
      "source": [
        "g.get_operation_by_name('pow')"
      ],
      "execution_count": 18,
      "outputs": [
        {
          "output_type": "execute_result",
          "data": {
            "text/plain": [
              "<tf.Operation 'pow' type=Pow>"
            ]
          },
          "metadata": {
            "tags": []
          },
          "execution_count": 18
        }
      ]
    },
    {
      "metadata": {
        "id": "pN2Le4zbIT1M",
        "colab_type": "text"
      },
      "cell_type": "markdown",
      "source": [
        "We can retrieve variable values at a later stage."
      ]
    },
    {
      "metadata": {
        "id": "nmu5NikEIT1Q",
        "colab_type": "code",
        "colab": {}
      },
      "cell_type": "code",
      "source": [
        "with tf.Session() as sess:\n",
        "    init.run()\n",
        "    x0 = sess.run(g.get_tensor_by_name('x:0'))"
      ],
      "execution_count": 0,
      "outputs": []
    },
    {
      "metadata": {
        "id": "E8e54v1FIT1V",
        "colab_type": "code",
        "colab": {
          "base_uri": "https://localhost:8080/",
          "height": 34
        },
        "outputId": "5b286fbf-6687-456f-8df9-1f0676aa2440"
      },
      "cell_type": "code",
      "source": [
        "x0"
      ],
      "execution_count": 20,
      "outputs": [
        {
          "output_type": "execute_result",
          "data": {
            "text/plain": [
              "2"
            ]
          },
          "metadata": {
            "tags": []
          },
          "execution_count": 20
        }
      ]
    },
    {
      "metadata": {
        "id": "flf530uOYNnl",
        "colab_type": "code",
        "colab": {
          "base_uri": "https://localhost:8080/",
          "height": 170
        },
        "outputId": "b1871c5b-3905-4fea-f0ce-03e6e50fabe1"
      },
      "cell_type": "code",
      "source": [
        "!pip install tfgraphviz"
      ],
      "execution_count": 22,
      "outputs": [
        {
          "output_type": "stream",
          "text": [
            "Collecting tfgraphviz\n",
            "  Downloading https://files.pythonhosted.org/packages/52/5e/111e64a39f129b27d811c3f1744012824f5db11caa1d0c71c5f7da33d8aa/tfgraphviz-0.0.7.tar.gz\n",
            "Requirement already satisfied: graphviz in /usr/local/lib/python2.7/dist-packages (from tfgraphviz) (0.10.1)\n",
            "Building wheels for collected packages: tfgraphviz\n",
            "  Building wheel for tfgraphviz (setup.py) ... \u001b[?25ldone\n",
            "\u001b[?25h  Stored in directory: /root/.cache/pip/wheels/09/32/14/5a088574d718bfeb86629b01549771914c53a06b4363576b67\n",
            "Successfully built tfgraphviz\n",
            "Installing collected packages: tfgraphviz\n",
            "Successfully installed tfgraphviz-0.0.7\n"
          ],
          "name": "stdout"
        }
      ]
    },
    {
      "metadata": {
        "id": "PPQQ3lIXIT1e",
        "colab_type": "text"
      },
      "cell_type": "markdown",
      "source": [
        "The [tensorflow graphviz](https://github.com/akimach/tfgraphviz) package imports visualization created by tensorboard.\n",
        "You can install it with\n",
        "\n",
        "`pip install tfgraphviz`"
      ]
    },
    {
      "metadata": {
        "id": "5JSzxf4IIT1g",
        "colab_type": "code",
        "colab": {
          "base_uri": "https://localhost:8080/",
          "height": 34
        },
        "outputId": "c65764bd-f282-4f12-a442-853aad8a05d4"
      },
      "cell_type": "code",
      "source": [
        "import tfgraphviz as tfg\n",
        "g = tfg.board(tf.get_default_graph())\n",
        "g.view()"
      ],
      "execution_count": 23,
      "outputs": [
        {
          "output_type": "execute_result",
          "data": {
            "text/plain": [
              "'G.gv.pdf'"
            ]
          },
          "metadata": {
            "tags": []
          },
          "execution_count": 23
        }
      ]
    },
    {
      "metadata": {
        "id": "aBdamJomIT1o",
        "colab_type": "text"
      },
      "cell_type": "markdown",
      "source": [
        "Since any new operations are going to be added to the same graph, it can be a good idea to reset the graph once you start with a new computation. We use this function simultaneously to set a random seed."
      ]
    },
    {
      "metadata": {
        "id": "_fDcRyFTIT1q",
        "colab_type": "code",
        "colab": {}
      },
      "cell_type": "code",
      "source": [
        "def reset_graph(seed=1):\n",
        "    tf.reset_default_graph()\n",
        "    tf.set_random_seed(seed)\n",
        "    np.random.seed(seed)"
      ],
      "execution_count": 0,
      "outputs": []
    },
    {
      "metadata": {
        "id": "-PpZ1gPUIT1u",
        "colab_type": "code",
        "colab": {}
      },
      "cell_type": "code",
      "source": [
        "reset_graph()"
      ],
      "execution_count": 0,
      "outputs": []
    },
    {
      "metadata": {
        "id": "Tv02vjlyIT19",
        "colab_type": "text"
      },
      "cell_type": "markdown",
      "source": [
        "## Regression model"
      ]
    },
    {
      "metadata": {
        "id": "MAVpykMNIT2A",
        "colab_type": "text"
      },
      "cell_type": "markdown",
      "source": [
        "TensorFlow performs typical linear algebra computations. We can make use of them to perform standard linear regression."
      ]
    },
    {
      "metadata": {
        "id": "XxxY3EKqIT2E",
        "colab_type": "code",
        "colab": {
          "base_uri": "https://localhost:8080/",
          "height": 272
        },
        "outputId": "5cf12dbe-235c-4d94-ab59-363ed6f605c4"
      },
      "cell_type": "code",
      "source": [
        "data='https://raw.githubusercontent.com/crahm/dataset-collection/master/auto-mpg/auto-mpg.csv'\n",
        "\n",
        "df = pd.read_csv(data, sep='\\s+', header=None)\n",
        "df.columns = ['mpg', 'cylinders', 'displacement', 'horsepower',\n",
        "              'weight', 'acceleration', 'year', 'origin', 'name']\n",
        "df.drop(df[df.horsepower == '?'].index, inplace=True)\n",
        "df.reset_index(inplace=True, drop=True)\n",
        "df['horsepower'] = df.horsepower.astype(float)\n",
        "df['brand'] = df.name.map(lambda x: x.split(' ')[0]\n",
        "                          ).replace(\n",
        "    {'toyouta': 'toyota',\n",
        "     'maxda': 'mazda',\n",
        "     'chevroelt': 'chevrolet',\n",
        "     'vw': 'volkswagen',\n",
        "     'vokswagen': 'volkswagen',\n",
        "     'mercedes-benz': 'mercedes'})\n",
        "df.info()"
      ],
      "execution_count": 26,
      "outputs": [
        {
          "output_type": "stream",
          "text": [
            "<class 'pandas.core.frame.DataFrame'>\n",
            "RangeIndex: 392 entries, 0 to 391\n",
            "Data columns (total 10 columns):\n",
            "mpg             392 non-null float64\n",
            "cylinders       392 non-null int64\n",
            "displacement    392 non-null float64\n",
            "horsepower      392 non-null float64\n",
            "weight          392 non-null float64\n",
            "acceleration    392 non-null float64\n",
            "year            392 non-null int64\n",
            "origin          392 non-null int64\n",
            "name            392 non-null object\n",
            "brand           392 non-null object\n",
            "dtypes: float64(5), int64(3), object(2)\n",
            "memory usage: 30.7+ KB\n"
          ],
          "name": "stdout"
        }
      ]
    },
    {
      "metadata": {
        "id": "u65BadddIT2M",
        "colab_type": "code",
        "colab": {
          "base_uri": "https://localhost:8080/",
          "height": 204
        },
        "outputId": "df35d51e-4469-497a-f358-3769a67c0b39"
      },
      "cell_type": "code",
      "source": [
        "df = pd.get_dummies(df, columns=['origin'], drop_first=True)\n",
        "df.head()"
      ],
      "execution_count": 27,
      "outputs": [
        {
          "output_type": "execute_result",
          "data": {
            "text/html": [
              "<div>\n",
              "<style scoped>\n",
              "    .dataframe tbody tr th:only-of-type {\n",
              "        vertical-align: middle;\n",
              "    }\n",
              "\n",
              "    .dataframe tbody tr th {\n",
              "        vertical-align: top;\n",
              "    }\n",
              "\n",
              "    .dataframe thead th {\n",
              "        text-align: right;\n",
              "    }\n",
              "</style>\n",
              "<table border=\"1\" class=\"dataframe\">\n",
              "  <thead>\n",
              "    <tr style=\"text-align: right;\">\n",
              "      <th></th>\n",
              "      <th>mpg</th>\n",
              "      <th>cylinders</th>\n",
              "      <th>displacement</th>\n",
              "      <th>horsepower</th>\n",
              "      <th>weight</th>\n",
              "      <th>acceleration</th>\n",
              "      <th>year</th>\n",
              "      <th>name</th>\n",
              "      <th>brand</th>\n",
              "      <th>origin_2</th>\n",
              "      <th>origin_3</th>\n",
              "    </tr>\n",
              "  </thead>\n",
              "  <tbody>\n",
              "    <tr>\n",
              "      <th>0</th>\n",
              "      <td>18.0</td>\n",
              "      <td>8</td>\n",
              "      <td>307.0</td>\n",
              "      <td>130.0</td>\n",
              "      <td>3504.0</td>\n",
              "      <td>12.0</td>\n",
              "      <td>70</td>\n",
              "      <td>chevrolet chevelle malibu</td>\n",
              "      <td>chevrolet</td>\n",
              "      <td>0</td>\n",
              "      <td>0</td>\n",
              "    </tr>\n",
              "    <tr>\n",
              "      <th>1</th>\n",
              "      <td>15.0</td>\n",
              "      <td>8</td>\n",
              "      <td>350.0</td>\n",
              "      <td>165.0</td>\n",
              "      <td>3693.0</td>\n",
              "      <td>11.5</td>\n",
              "      <td>70</td>\n",
              "      <td>buick skylark 320</td>\n",
              "      <td>buick</td>\n",
              "      <td>0</td>\n",
              "      <td>0</td>\n",
              "    </tr>\n",
              "    <tr>\n",
              "      <th>2</th>\n",
              "      <td>18.0</td>\n",
              "      <td>8</td>\n",
              "      <td>318.0</td>\n",
              "      <td>150.0</td>\n",
              "      <td>3436.0</td>\n",
              "      <td>11.0</td>\n",
              "      <td>70</td>\n",
              "      <td>plymouth satellite</td>\n",
              "      <td>plymouth</td>\n",
              "      <td>0</td>\n",
              "      <td>0</td>\n",
              "    </tr>\n",
              "    <tr>\n",
              "      <th>3</th>\n",
              "      <td>16.0</td>\n",
              "      <td>8</td>\n",
              "      <td>304.0</td>\n",
              "      <td>150.0</td>\n",
              "      <td>3433.0</td>\n",
              "      <td>12.0</td>\n",
              "      <td>70</td>\n",
              "      <td>amc rebel sst</td>\n",
              "      <td>amc</td>\n",
              "      <td>0</td>\n",
              "      <td>0</td>\n",
              "    </tr>\n",
              "    <tr>\n",
              "      <th>4</th>\n",
              "      <td>17.0</td>\n",
              "      <td>8</td>\n",
              "      <td>302.0</td>\n",
              "      <td>140.0</td>\n",
              "      <td>3449.0</td>\n",
              "      <td>10.5</td>\n",
              "      <td>70</td>\n",
              "      <td>ford torino</td>\n",
              "      <td>ford</td>\n",
              "      <td>0</td>\n",
              "      <td>0</td>\n",
              "    </tr>\n",
              "  </tbody>\n",
              "</table>\n",
              "</div>"
            ],
            "text/plain": [
              "    mpg  cylinders  displacement  horsepower  weight  acceleration  year  \\\n",
              "0  18.0          8         307.0       130.0  3504.0          12.0    70   \n",
              "1  15.0          8         350.0       165.0  3693.0          11.5    70   \n",
              "2  18.0          8         318.0       150.0  3436.0          11.0    70   \n",
              "3  16.0          8         304.0       150.0  3433.0          12.0    70   \n",
              "4  17.0          8         302.0       140.0  3449.0          10.5    70   \n",
              "\n",
              "                        name      brand  origin_2  origin_3  \n",
              "0  chevrolet chevelle malibu  chevrolet         0         0  \n",
              "1          buick skylark 320      buick         0         0  \n",
              "2         plymouth satellite   plymouth         0         0  \n",
              "3              amc rebel sst        amc         0         0  \n",
              "4                ford torino       ford         0         0  "
            ]
          },
          "metadata": {
            "tags": []
          },
          "execution_count": 27
        }
      ]
    },
    {
      "metadata": {
        "id": "0COfe-KtIT2l",
        "colab_type": "code",
        "colab": {}
      },
      "cell_type": "code",
      "source": [
        "target = 'mpg'\n",
        "predictors = [col for col in df.columns if col not in ['mpg', 'name', 'brand']]\n",
        "n_features = len(predictors)\n",
        "\n",
        "X = df[predictors].values\n",
        "y = df[[target]].values"
      ],
      "execution_count": 0,
      "outputs": []
    },
    {
      "metadata": {
        "id": "pNuBNqFTIT2v",
        "colab_type": "text"
      },
      "cell_type": "markdown",
      "source": [
        "### Rescaling\n",
        "\n",
        "Rescaling is essential since we are going to use an iterative optimization algorithm for finding the optimal solution. Rescaling will remain crucial also in the context of neural network models."
      ]
    },
    {
      "metadata": {
        "id": "ZhbvUd0MIT2x",
        "colab_type": "code",
        "colab": {}
      },
      "cell_type": "code",
      "source": [
        "from sklearn.model_selection import train_test_split\n",
        "from sklearn.preprocessing import StandardScaler\n",
        "\n",
        "X_train, X_test, y_train, y_test = train_test_split(\n",
        "    X, y, test_size=0.2, random_state=1)\n",
        "\n",
        "scaler = StandardScaler()\n",
        "\n",
        "X_train = scaler.fit_transform(X_train)\n",
        "X_test = scaler.transform(X_test)\n",
        "\n",
        "X_train = X_train\n",
        "X_test = X_test"
      ],
      "execution_count": 0,
      "outputs": []
    },
    {
      "metadata": {
        "id": "F4dH2BckIT22",
        "colab_type": "text"
      },
      "cell_type": "markdown",
      "source": [
        "### Scikit-Learn fit for reference"
      ]
    },
    {
      "metadata": {
        "id": "oiuQpre4IT23",
        "colab_type": "code",
        "colab": {}
      },
      "cell_type": "code",
      "source": [
        "from sklearn.metrics import mean_squared_error\n",
        "from sklearn.linear_model import LinearRegression"
      ],
      "execution_count": 0,
      "outputs": []
    },
    {
      "metadata": {
        "id": "VydzqkGIIT3A",
        "colab_type": "code",
        "colab": {
          "base_uri": "https://localhost:8080/",
          "height": 68
        },
        "outputId": "550d0cc2-32c7-43d5-f185-b31ef87dd2f9"
      },
      "cell_type": "code",
      "source": [
        "model = LinearRegression()\n",
        "model.fit(X_train, y_train)\n",
        "print(model.intercept_, model.coef_)\n",
        "model_mse = mean_squared_error(y_train, model.predict(X_train))\n",
        "print(model_mse)"
      ],
      "execution_count": 31,
      "outputs": [
        {
          "output_type": "stream",
          "text": [
            "(array([23.40415335]), array([[-0.28232275,  2.28163943, -0.24164074, -6.27096283,  0.52777253,\n",
            "         2.81814812,  0.98942257,  1.09814638]]))\n",
            "10.490330742374384\n"
          ],
          "name": "stdout"
        }
      ]
    },
    {
      "metadata": {
        "id": "DWOgY_9CIT3L",
        "colab_type": "text"
      },
      "cell_type": "markdown",
      "source": [
        "### Linear regression algebraically with numpy\n",
        "\n",
        "We use the algebraic solution for the beta coefficients.\n",
        "$$\n",
        "\\beta = \\left(X^T X\\right)^{-1}X^T y\n",
        "$$\n",
        "\n",
        "We have to add the intercept term to the data matrix."
      ]
    },
    {
      "metadata": {
        "id": "iT8QXblfIT3O",
        "colab_type": "code",
        "colab": {}
      },
      "cell_type": "code",
      "source": [
        "X_tr = np.concatenate([np.ones(len(X_train)).reshape(-1, 1), X_train], axis=1)"
      ],
      "execution_count": 0,
      "outputs": []
    },
    {
      "metadata": {
        "id": "7myMBnaVIT3d",
        "colab_type": "code",
        "colab": {
          "base_uri": "https://localhost:8080/",
          "height": 170
        },
        "outputId": "3dbc29f0-13f8-462f-c468-718fab351234"
      },
      "cell_type": "code",
      "source": [
        "print(np.dot(np.dot(np.linalg.inv(np.dot(X_tr.T, X_tr)), X_tr.T), y_train))"
      ],
      "execution_count": 33,
      "outputs": [
        {
          "output_type": "stream",
          "text": [
            "[[23.40415335]\n",
            " [-0.28232275]\n",
            " [ 2.28163943]\n",
            " [-0.24164074]\n",
            " [-6.27096283]\n",
            " [ 0.52777253]\n",
            " [ 2.81814812]\n",
            " [ 0.98942257]\n",
            " [ 1.09814638]]\n"
          ],
          "name": "stdout"
        }
      ]
    },
    {
      "metadata": {
        "id": "Bqw82BL7IT3i",
        "colab_type": "text"
      },
      "cell_type": "markdown",
      "source": [
        "### Linear regression algebraically with TensorFlow\n",
        "\n",
        "Since TensorFlow sets up the computational graph before a session is run, algebraic operations should not be defined in the eager numpy way. Analogous operations exist in TensorFlow."
      ]
    },
    {
      "metadata": {
        "id": "YKaQxXYZIT3j",
        "colab_type": "code",
        "colab": {
          "base_uri": "https://localhost:8080/",
          "height": 170
        },
        "outputId": "c571bb8b-b917-4e12-fb71-accca53ec228"
      },
      "cell_type": "code",
      "source": [
        "X = tf.constant(X_tr, dtype=tf.float64, name='X')\n",
        "y = tf.constant(y_train, dtype=tf.float64, name='y')\n",
        "X_T = tf.transpose(X)\n",
        "beta = tf.matmul(tf.matmul(\n",
        "    tf.matrix_inverse(tf.matmul(X_T, X)), X_T), y)\n",
        "\n",
        "init = tf.global_variables_initializer()\n",
        "\n",
        "with tf.Session() as sess:\n",
        "    init.run()\n",
        "    beta_value = sess.run(beta)\n",
        "\n",
        "print(beta_value)"
      ],
      "execution_count": 34,
      "outputs": [
        {
          "output_type": "stream",
          "text": [
            "[[23.40415335]\n",
            " [-0.28232275]\n",
            " [ 2.28163943]\n",
            " [-0.24164074]\n",
            " [-6.27096283]\n",
            " [ 0.52777253]\n",
            " [ 2.81814812]\n",
            " [ 0.98942257]\n",
            " [ 1.09814638]]\n"
          ],
          "name": "stdout"
        }
      ]
    },
    {
      "metadata": {
        "id": "15U5WZ1sIT3q",
        "colab_type": "text"
      },
      "cell_type": "markdown",
      "source": [
        "### Create TensorFlow variables\n",
        "\n",
        "We create TensorFlow variables which we will populate with data during training. We only fix the number of columns, but leave the number of rows undefined. This will facilitate working with training and test sets."
      ]
    },
    {
      "metadata": {
        "id": "5nMnQIuqIT3t",
        "colab_type": "code",
        "colab": {}
      },
      "cell_type": "code",
      "source": [
        "X = tf.placeholder(tf.float32, shape=(None, n_features), name='X')\n",
        "y = tf.placeholder(tf.float32, shape=(None, 1), name='y')"
      ],
      "execution_count": 0,
      "outputs": []
    },
    {
      "metadata": {
        "collapsed": true,
        "id": "-kniGC_UIT30",
        "colab_type": "text"
      },
      "cell_type": "markdown",
      "source": [
        "### Define the model parameters\n",
        "\n",
        "- $b$: intercept\n",
        "- $w$: model coefficients"
      ]
    },
    {
      "metadata": {
        "id": "AdynLhh2IT34",
        "colab_type": "code",
        "colab": {}
      },
      "cell_type": "code",
      "source": [
        "w = tf.Variable(tf.zeros([n_features, 1]))\n",
        "b = tf.Variable(tf.zeros([1]))"
      ],
      "execution_count": 0,
      "outputs": []
    },
    {
      "metadata": {
        "id": "1yYoTaLlIT4C",
        "colab_type": "text"
      },
      "cell_type": "markdown",
      "source": [
        "### Loss function\n",
        "\n",
        "We use the mean squared error."
      ]
    },
    {
      "metadata": {
        "id": "d7R9m6RDIT4P",
        "colab_type": "code",
        "colab": {}
      },
      "cell_type": "code",
      "source": [
        "predictions = tf.add(tf.matmul(X, w), b)\n",
        "loss = tf.losses.mean_squared_error(y, predictions)"
      ],
      "execution_count": 0,
      "outputs": []
    },
    {
      "metadata": {
        "id": "JrdU-zX5IT4S",
        "colab_type": "text"
      },
      "cell_type": "markdown",
      "source": [
        "### Optimizer\n",
        "\n",
        "We will use gradient descent for optimization which requires a learning rate as a parameter. Other methods are [available](https://www.tensorflow.org/api_docs/python/tf/train)."
      ]
    },
    {
      "metadata": {
        "id": "YZxoXs57IT4U",
        "colab_type": "code",
        "colab": {}
      },
      "cell_type": "code",
      "source": [
        "learning_rate = 0.1\n",
        "optimizer = tf.train.GradientDescentOptimizer(learning_rate=learning_rate)\n",
        "training_operation = optimizer.minimize(loss)"
      ],
      "execution_count": 0,
      "outputs": []
    },
    {
      "metadata": {
        "id": "oAd07whFIT4h",
        "colab_type": "text"
      },
      "cell_type": "markdown",
      "source": [
        "### Number of epochs\n",
        "\n",
        "Epochs are the iteration steps for the gradient descent when the entire training data has been looked at."
      ]
    },
    {
      "metadata": {
        "id": "nfgA4BfOIT4m",
        "colab_type": "code",
        "colab": {}
      },
      "cell_type": "code",
      "source": [
        "training_epochs = 1000"
      ],
      "execution_count": 0,
      "outputs": []
    },
    {
      "metadata": {
        "id": "PZdQMAM3IT4y",
        "colab_type": "text"
      },
      "cell_type": "markdown",
      "source": [
        "### Training session\n",
        "\n",
        "- We start the session by initializing the variables.\n",
        "- If we evaluate quantities which need to be fed with placeholder data, we use a dictionary for feeding inside the data.\n",
        "- Session run results assigned to a variable can be referred to later."
      ]
    },
    {
      "metadata": {
        "id": "0s_CxO2kIT4z",
        "colab_type": "code",
        "colab": {}
      },
      "cell_type": "code",
      "source": [
        "loss_history = []\n",
        "init = tf.global_variables_initializer()\n",
        "\n",
        "with tf.Session() as sess:\n",
        "    sess.run(init)\n",
        "\n",
        "    for epoch in range(training_epochs):\n",
        "        sess.run(training_operation, feed_dict={X: X_train, y: y_train})\n",
        "        loss_history.append(sess.run(loss, feed_dict={X: X_train, y: y_train}))\n",
        "\n",
        "    loss_final, w_final, b_final, predictions_y = sess.run(\n",
        "        [loss, w, b, predictions],\n",
        "        feed_dict={X: X_train, y: y_train})"
      ],
      "execution_count": 0,
      "outputs": []
    },
    {
      "metadata": {
        "id": "t3PJDbqxIT47",
        "colab_type": "code",
        "colab": {
          "base_uri": "https://localhost:8080/",
          "height": 34
        },
        "outputId": "fc7da895-9834-4839-eccd-ce9bdac7beab"
      },
      "cell_type": "code",
      "source": [
        "loss_final"
      ],
      "execution_count": 44,
      "outputs": [
        {
          "output_type": "execute_result",
          "data": {
            "text/plain": [
              "10.490334"
            ]
          },
          "metadata": {
            "tags": []
          },
          "execution_count": 44
        }
      ]
    },
    {
      "metadata": {
        "id": "WV2aOkdpIT5D",
        "colab_type": "code",
        "colab": {
          "base_uri": "https://localhost:8080/",
          "height": 34
        },
        "outputId": "a001c382-0b83-46de-b861-4ca314da0f0e"
      },
      "cell_type": "code",
      "source": [
        "mean_squared_error(y_train, predictions_y)"
      ],
      "execution_count": 45,
      "outputs": [
        {
          "output_type": "execute_result",
          "data": {
            "text/plain": [
              "10.490334647684612"
            ]
          },
          "metadata": {
            "tags": []
          },
          "execution_count": 45
        }
      ]
    },
    {
      "metadata": {
        "id": "bEtGXSQOIT5I",
        "colab_type": "code",
        "colab": {
          "base_uri": "https://localhost:8080/",
          "height": 34
        },
        "outputId": "41c49b6a-90d5-4a22-f0ed-1a7bd9d9d9fd"
      },
      "cell_type": "code",
      "source": [
        "b_final"
      ],
      "execution_count": 46,
      "outputs": [
        {
          "output_type": "execute_result",
          "data": {
            "text/plain": [
              "array([23.40415], dtype=float32)"
            ]
          },
          "metadata": {
            "tags": []
          },
          "execution_count": 46
        }
      ]
    },
    {
      "metadata": {
        "id": "MYa7kXtZIT5Q",
        "colab_type": "code",
        "colab": {
          "base_uri": "https://localhost:8080/",
          "height": 153
        },
        "outputId": "285eb305-766b-40bd-b038-a3fffdcb858a"
      },
      "cell_type": "code",
      "source": [
        "w_final"
      ],
      "execution_count": 47,
      "outputs": [
        {
          "output_type": "execute_result",
          "data": {
            "text/plain": [
              "array([[-0.27804324],\n",
              "       [ 2.2727203 ],\n",
              "       [-0.24156162],\n",
              "       [-6.26728   ],\n",
              "       [ 0.52704805],\n",
              "       [ 2.817764  ],\n",
              "       [ 0.9886561 ],\n",
              "       [ 1.0975658 ]], dtype=float32)"
            ]
          },
          "metadata": {
            "tags": []
          },
          "execution_count": 47
        }
      ]
    },
    {
      "metadata": {
        "id": "it_VDBgcIT5m",
        "colab_type": "code",
        "colab": {
          "base_uri": "https://localhost:8080/",
          "height": 51
        },
        "outputId": "611d35ba-8c8d-4ea4-fbb0-e63f4a84deae"
      },
      "cell_type": "code",
      "source": [
        "model.coef_"
      ],
      "execution_count": 48,
      "outputs": [
        {
          "output_type": "execute_result",
          "data": {
            "text/plain": [
              "array([[-0.28232275,  2.28163943, -0.24164074, -6.27096283,  0.52777253,\n",
              "         2.81814812,  0.98942257,  1.09814638]])"
            ]
          },
          "metadata": {
            "tags": []
          },
          "execution_count": 48
        }
      ]
    },
    {
      "metadata": {
        "id": "mgTirXM_IT5q",
        "colab_type": "code",
        "colab": {
          "base_uri": "https://localhost:8080/",
          "height": 289
        },
        "outputId": "28e2ba71-0b3b-4cbb-d6bf-6b31257efb45"
      },
      "cell_type": "code",
      "source": [
        "fig, ax = plt.subplots()\n",
        "ax.scatter(y_train, predictions_y)\n",
        "ax.plot([y_train.min(), y_train.max()], [\n",
        "        y_train.min(), y_train.max()], 'k--', lw=3)\n",
        "ax.set_xlabel('y')\n",
        "ax.set_ylabel(r'$\\hat{y}$')\n",
        "plt.show()"
      ],
      "execution_count": 49,
      "outputs": [
        {
          "output_type": "display_data",
          "data": {
            "image/png": "[encoded data removed]",
            "text/plain": [
              "<Figure size 432x288 with 1 Axes>"
            ]
          },
          "metadata": {
            "tags": [],
            "image/png": {
              "width": 397,
              "height": 272
            }
          }
        }
      ]
    },
    {
      "metadata": {
        "id": "0Dyg4kErIT5z",
        "colab_type": "code",
        "colab": {
          "base_uri": "https://localhost:8080/",
          "height": 289
        },
        "outputId": "d3b693a7-2e35-41ae-e21f-a68f4e547221"
      },
      "cell_type": "code",
      "source": [
        "plt.plot(list(range(training_epochs)), loss_history, label='tensorflow')\n",
        "plt.hlines(model_mse, 0, training_epochs, label='sklearn')\n",
        "plt.xscale('log')\n",
        "plt.yscale('log')\n",
        "plt.xlabel('Epochs')\n",
        "plt.ylabel('MSE')\n",
        "plt.legend()\n",
        "plt.show()"
      ],
      "execution_count": 50,
      "outputs": [
        {
          "output_type": "display_data",
          "data": {
            "image/png": "[encoded data removed]",
            "text/plain": [
              "<Figure size 432x288 with 1 Axes>"
            ]
          },
          "metadata": {
            "tags": [],
            "image/png": {
              "width": 398,
              "height": 272
            }
          }
        }
      ]
    },
    {
      "metadata": {
        "id": "kcB2Wg2lIT55",
        "colab_type": "text"
      },
      "cell_type": "markdown",
      "source": [
        "A scikit-learn comparable score is achieved fast, but obtaining close coefficients takes more iterations. Usually it is good practice to display intermediate results."
      ]
    },
    {
      "metadata": {
        "id": "7gJ_QfeLIT56",
        "colab_type": "code",
        "colab": {}
      },
      "cell_type": "code",
      "source": [
        "training_epochs = 1000\n",
        "display_step = 100"
      ],
      "execution_count": 0,
      "outputs": []
    },
    {
      "metadata": {
        "scrolled": false,
        "id": "kVAebTFcIT5_",
        "colab_type": "code",
        "colab": {
          "base_uri": "https://localhost:8080/",
          "height": 612
        },
        "outputId": "76fe1306-d6a9-463b-c4c2-2283afa52608"
      },
      "cell_type": "code",
      "source": [
        "loss_history = []\n",
        "init = tf.global_variables_initializer()\n",
        "\n",
        "with tf.Session() as sess:\n",
        "    sess.run(init)\n",
        "\n",
        "    for epoch in range(training_epochs):\n",
        "        sess.run(training_operation, feed_dict={X: X_train, y: y_train})\n",
        "        loss_current = sess.run(loss, feed_dict={X: X_train, y: y_train})\n",
        "        loss_history.append(loss_current)\n",
        "\n",
        "        if (epoch+1) % display_step == 0:\n",
        "            b_current, w_current = sess.run([b, w])\n",
        "            print('Epoch: {}'.format(epoch+1),\n",
        "                  'loss:{:.2}'.format(loss_current))\n",
        "            print('Intercept: {:.3}'.format(b_current[0]),\n",
        "                  'Coefficients: {}'.format(np.around(w_current.T, 2)))\n",
        "\n",
        "    print('\\n\\nOptimization finished\\n\\n')\n",
        "    loss_final, w_final, b_final, predictions_y = sess.run(\n",
        "        [loss, w, b, predictions],\n",
        "        feed_dict={X: X_train, y: y_train})\n",
        "\n",
        "    print('Final loss:\\t\\t {:.4}'.format(loss_final))\n",
        "    print('Intercept:\\t\\t {:.3}'.format(b_final[0]))\n",
        "\n",
        "    for x in zip(predictors, w_final):\n",
        "        print(x[0], ':\\t\\t', round(x[1][0], 3))"
      ],
      "execution_count": 52,
      "outputs": [
        {
          "output_type": "stream",
          "text": [
            "('Epoch: 100', 'loss:1.1e+01')\n",
            "('Intercept: 23.4', 'Coefficients: [[ 0.15  0.36 -0.9  -4.51  0.09  2.64  0.81  1.04]]')\n",
            "('Epoch: 200', 'loss:1.1e+01')\n",
            "('Intercept: 23.4', 'Coefficients: [[ 0.1   1.22 -0.48 -5.52  0.34  2.74  0.9   1.05]]')\n",
            "('Epoch: 300', 'loss:1.1e+01')\n",
            "('Intercept: 23.4', 'Coefficients: [[-0.04  1.69 -0.32 -5.92  0.45  2.78  0.94  1.07]]')\n",
            "('Epoch: 400', 'loss:1e+01')\n",
            "('Intercept: 23.4', 'Coefficients: [[-0.14  1.95 -0.27 -6.1   0.49  2.8   0.96  1.08]]')\n",
            "('Epoch: 500', 'loss:1e+01')\n",
            "('Intercept: 23.4', 'Coefficients: [[-0.2   2.1  -0.25 -6.19  0.51  2.81  0.97  1.09]]')\n",
            "('Epoch: 600', 'loss:1e+01')\n",
            "('Intercept: 23.4', 'Coefficients: [[-0.24  2.18 -0.24 -6.23  0.52  2.81  0.98  1.09]]')\n",
            "('Epoch: 700', 'loss:1e+01')\n",
            "('Intercept: 23.4', 'Coefficients: [[-0.26  2.23 -0.24 -6.25  0.52  2.82  0.98  1.09]]')\n",
            "('Epoch: 800', 'loss:1e+01')\n",
            "('Intercept: 23.4', 'Coefficients: [[-0.27  2.25 -0.24 -6.26  0.53  2.82  0.99  1.1 ]]')\n",
            "('Epoch: 900', 'loss:1e+01')\n",
            "('Intercept: 23.4', 'Coefficients: [[-0.27  2.27 -0.24 -6.26  0.53  2.82  0.99  1.1 ]]')\n",
            "('Epoch: 1000', 'loss:1e+01')\n",
            "('Intercept: 23.4', 'Coefficients: [[-0.28  2.27 -0.24 -6.27  0.53  2.82  0.99  1.1 ]]')\n",
            "\n",
            "\n",
            "Optimization finished\n",
            "\n",
            "\n",
            "Final loss:\t\t 10.49\n",
            "Intercept:\t\t 23.4\n",
            "('cylinders', ':\\t\\t', -0.278)\n",
            "('displacement', ':\\t\\t', 2.273)\n",
            "('horsepower', ':\\t\\t', -0.242)\n",
            "('weight', ':\\t\\t', -6.267)\n",
            "('acceleration', ':\\t\\t', 0.527)\n",
            "('year', ':\\t\\t', 2.818)\n",
            "('origin_2', ':\\t\\t', 0.989)\n",
            "('origin_3', ':\\t\\t', 1.098)\n"
          ],
          "name": "stdout"
        }
      ]
    },
    {
      "metadata": {
        "id": "ETvn7F_XIT6D",
        "colab_type": "code",
        "colab": {
          "base_uri": "https://localhost:8080/",
          "height": 289
        },
        "outputId": "11e95dba-a243-4f51-893b-bfdcc7306dc7"
      },
      "cell_type": "code",
      "source": [
        "fig, ax = plt.subplots()\n",
        "ax.scatter(y_train, predictions_y)\n",
        "ax.plot([y_train.min(), y_train.max()], [\n",
        "        y_train.min(), y_train.max()], 'k--', lw=3)\n",
        "ax.set_xlabel('y')\n",
        "ax.set_ylabel(r'$\\hat{y}$')\n",
        "plt.show()"
      ],
      "execution_count": 53,
      "outputs": [
        {
          "output_type": "display_data",
          "data": {
            "image/png": "[encoded data removed]",
            "text/plain": [
              "<Figure size 432x288 with 1 Axes>"
            ]
          },
          "metadata": {
            "tags": [],
            "image/png": {
              "width": 397,
              "height": 272
            }
          }
        }
      ]
    },
    {
      "metadata": {
        "id": "BHmRn9OZIT6I",
        "colab_type": "text"
      },
      "cell_type": "markdown",
      "source": [
        "### Plot MSE versus Epochs"
      ]
    },
    {
      "metadata": {
        "id": "ucZetS9gIT6M",
        "colab_type": "code",
        "colab": {
          "base_uri": "https://localhost:8080/",
          "height": 289
        },
        "outputId": "b7bb4213-bb66-4bcb-db2d-ab4b8a417063"
      },
      "cell_type": "code",
      "source": [
        "plt.plot(list(range(training_epochs)), loss_history, label='tensorflow')\n",
        "plt.hlines(model_mse, 0, training_epochs, label='sklearn')\n",
        "plt.xscale('log')\n",
        "plt.xlabel('Epochs')\n",
        "plt.ylabel('MSE')\n",
        "plt.legend()\n",
        "plt.show()"
      ],
      "execution_count": 54,
      "outputs": [
        {
          "output_type": "display_data",
          "data": {
            "image/png": "[encoded data removed]",
            "text/plain": [
              "<Figure size 432x288 with 1 Axes>"
            ]
          },
          "metadata": {
            "tags": [],
            "image/png": {
              "width": 400,
              "height": 272
            }
          }
        }
      ]
    },
    {
      "metadata": {
        "id": "HG-BHhreIT6e",
        "colab_type": "text"
      },
      "cell_type": "markdown",
      "source": [
        "## Code summary for optimization\n",
        "\n",
        "We add also mini-batch processing. During each epoch the data is split randomly into pieces, after looking at each mini-batch a coefficient update is performed. "
      ]
    },
    {
      "metadata": {
        "id": "lJL1OkYeIT6f",
        "colab_type": "code",
        "colab": {}
      },
      "cell_type": "code",
      "source": [
        "def batch_iterator(X, y, batch_size):\n",
        "    random_index = np.random.permutation(len(X))\n",
        "    n_batches = len(X) // batch_size\n",
        "    for batch_index in np.array_split(random_index, n_batches):\n",
        "        X_batch, y_batch = X[batch_index], y[batch_index]\n",
        "        yield X_batch, y_batch"
      ],
      "execution_count": 0,
      "outputs": []
    },
    {
      "metadata": {
        "id": "zkkrgHmqIT6k",
        "colab_type": "code",
        "colab": {
          "base_uri": "https://localhost:8080/",
          "height": 612
        },
        "outputId": "e9609544-e1f2-4f7a-dac1-ce348513a35d"
      },
      "cell_type": "code",
      "source": [
        "reset_graph()\n",
        "\n",
        "X = tf.placeholder(tf.float32, shape=(None, n_features), name='X')\n",
        "y = tf.placeholder(tf.float32, shape=(None, 1), name='y')\n",
        "\n",
        "w = tf.Variable(tf.zeros([n_features, 1]))\n",
        "b = tf.Variable(tf.zeros([1]))\n",
        "\n",
        "predictions = tf.add(tf.matmul(X, w), b)\n",
        "loss = tf.losses.mean_squared_error(y, predictions)\n",
        "\n",
        "learning_rate = 0.1\n",
        "optimizer = tf.train.GradientDescentOptimizer(learning_rate=learning_rate)\n",
        "training_operation = optimizer.minimize(loss)\n",
        "\n",
        "training_epochs = 1000  # Number of iteration steps\n",
        "display_step = 100  # Display intermediate results\n",
        "batch_size = 50\n",
        "\n",
        "loss_history = []\n",
        "init = tf.global_variables_initializer()\n",
        "\n",
        "with tf.Session() as sess:\n",
        "    sess.run(init)\n",
        "\n",
        "    for epoch in range(training_epochs):\n",
        "        loss_current = sess.run(loss, feed_dict={X: X_train, y: y_train})\n",
        "        loss_history.append(loss_current)\n",
        "\n",
        "        if (epoch+1) % display_step == 0:\n",
        "            b_current, w_current = sess.run([b, w])\n",
        "            print('Epoch: {}'.format(epoch+1),\n",
        "                  'loss:{:.2}'.format(loss_current))\n",
        "            print('Intercept: {:.3}'.format(b_current[0]),\n",
        "                  'Coefficients: {}'.format(np.around(w_current.T, 2)))\n",
        "\n",
        "        for X_batch, y_batch in batch_iterator(X_train, y_train, batch_size):\n",
        "            sess.run(training_operation, feed_dict={X: X_batch, y: y_batch})\n",
        "\n",
        "    print('\\n\\nOptimization finished\\n\\n')\n",
        "    loss_final, w_final, b_final, predictions_y = sess.run(\n",
        "        [loss, w, b, predictions],\n",
        "        feed_dict={X: X_train, y: y_train})\n",
        "\n",
        "    print('Final loss:\\t\\t {:.4}'.format(loss_final))\n",
        "    print('Intercept:\\t\\t {:.3}'.format(b_final[0]))\n",
        "\n",
        "    for x in zip(predictors, w_final):\n",
        "        print(x[0], ':\\t\\t', round(x[1][0], 3))"
      ],
      "execution_count": 56,
      "outputs": [
        {
          "output_type": "stream",
          "text": [
            "('Epoch: 100', 'loss:1.1e+01')\n",
            "('Intercept: 23.5', 'Coefficients: [[-0.29  2.15 -0.33 -6.33  0.58  2.84  0.94  1.18]]')\n",
            "('Epoch: 200', 'loss:1.1e+01')\n",
            "('Intercept: 23.5', 'Coefficients: [[-0.39  2.23 -0.33 -6.36  0.63  2.88  1.02  1.13]]')\n",
            "('Epoch: 300', 'loss:1.1e+01')\n",
            "('Intercept: 23.4', 'Coefficients: [[-0.39  2.18 -0.31 -6.35  0.63  2.83  1.09  1.12]]')\n",
            "('Epoch: 400', 'loss:1.1e+01')\n",
            "('Intercept: 23.4', 'Coefficients: [[-0.27  2.35 -0.18 -6.29  0.44  2.82  0.92  1.14]]')\n",
            "('Epoch: 500', 'loss:1.1e+01')\n",
            "('Intercept: 23.4', 'Coefficients: [[-0.24  2.33 -0.23 -6.22  0.58  2.86  1.    1.01]]')\n",
            "('Epoch: 600', 'loss:1.1e+01')\n",
            "('Intercept: 23.4', 'Coefficients: [[-0.28  2.32 -0.17 -6.27  0.45  2.86  1.01  1.09]]')\n",
            "('Epoch: 700', 'loss:1.1e+01')\n",
            "('Intercept: 23.5', 'Coefficients: [[-0.37  2.19 -0.37 -6.35  0.65  2.89  0.95  1.15]]')\n",
            "('Epoch: 800', 'loss:1.1e+01')\n",
            "('Intercept: 23.4', 'Coefficients: [[-0.44  2.13 -0.4  -6.44  0.66  2.98  1.06  1.15]]')\n",
            "('Epoch: 900', 'loss:1.1e+01')\n",
            "('Intercept: 23.5', 'Coefficients: [[-0.28  2.31 -0.29 -6.3   0.57  2.85  1.    1.15]]')\n",
            "('Epoch: 1000', 'loss:1.1e+01')\n",
            "('Intercept: 23.4', 'Coefficients: [[-0.17  2.44 -0.18 -6.13  0.43  2.73  0.9   1.03]]')\n",
            "\n",
            "\n",
            "Optimization finished\n",
            "\n",
            "\n",
            "Final loss:\t\t 10.56\n",
            "Intercept:\t\t 23.5\n",
            "('cylinders', ':\\t\\t', -0.268)\n",
            "('displacement', ':\\t\\t', 2.343)\n",
            "('horsepower', ':\\t\\t', -0.241)\n",
            "('weight', ':\\t\\t', -6.227)\n",
            "('acceleration', ':\\t\\t', 0.417)\n",
            "('year', ':\\t\\t', 2.749)\n",
            "('origin_2', ':\\t\\t', 0.957)\n",
            "('origin_3', ':\\t\\t', 1.126)\n"
          ],
          "name": "stdout"
        }
      ]
    },
    {
      "metadata": {
        "id": "D2wTXnDKIT6p",
        "colab_type": "code",
        "colab": {
          "base_uri": "https://localhost:8080/",
          "height": 738
        },
        "outputId": "f4e06a12-370a-41db-c01a-6909fc12458f"
      },
      "cell_type": "code",
      "source": [
        "import tfgraphviz as tfg\n",
        "\n",
        "g = tfg.board(tf.get_default_graph())\n",
        "g"
      ],
      "execution_count": 57,
      "outputs": [
        {
          "output_type": "execute_result",
          "data": {
            "text/plain": [
              "<graphviz.dot.Digraph at 0x7fcb56471c50>"
            ],
            "image/svg+xml": "<?xml version=\"1.0\" encoding=\"UTF-8\" standalone=\"no\"?>\n<!DOCTYPE svg PUBLIC \"-//W3C//DTD SVG 1.1//EN\"\n \"http://www.w3.org/Graphics/SVG/1.1/DTD/svg11.dtd\">\n<!-- Generated by graphviz version 2.40.1 (20161225.0304)\n -->\n<!-- Title: G Pages: 1 -->\n<svg width=\"573pt\" height=\"538pt\"\n viewBox=\"0.00 0.00 572.70 538.00\" xmlns=\"http://www.w3.org/2000/svg\" xmlns:xlink=\"http://www.w3.org/1999/xlink\">\n<g id=\"graph0\" class=\"graph\" transform=\"scale(1 1) rotate(0) translate(4 534)\">\n<title>G</title>\n<polygon fill=\"#ffffff\" stroke=\"transparent\" points=\"-4,4 -4,-534 568.6955,-534 568.6955,4 -4,4\"/>\n<!-- init -->\n<g id=\"node1\" class=\"node\">\n<title>init</title>\n<ellipse fill=\"#ffffff\" stroke=\"#aaaaaa\" stroke-width=\"2\" cx=\"413.6955\" cy=\"-512\" rx=\"27\" ry=\"18\"/>\n<text text-anchor=\"middle\" x=\"413.6955\" y=\"-508.3\" font-family=\"Times,serif\" font-size=\"14.00\" fill=\"#414141\">init</text>\n</g>\n<!-- mean_squared_error -->\n<g id=\"node2\" class=\"node\">\n<title>mean_squared_error</title>\n<ellipse fill=\"#ffffff\" stroke=\"#aaaaaa\" stroke-width=\"2\" cx=\"206.6955\" cy=\"-164\" rx=\"87.1846\" ry=\"18\"/>\n<text text-anchor=\"middle\" x=\"206.6955\" y=\"-160.3\" font-family=\"Times,serif\" font-size=\"14.00\" fill=\"#414141\">mean_squared_error</text>\n</g>\n<!-- gradients -->\n<g id=\"node12\" class=\"node\">\n<title>gradients</title>\n<ellipse fill=\"#ffffff\" stroke=\"#aaaaaa\" stroke-width=\"2\" cx=\"354.6955\" cy=\"-91\" rx=\"44.393\" ry=\"18\"/>\n<text text-anchor=\"middle\" x=\"354.6955\" y=\"-87.3\" font-family=\"Times,serif\" font-size=\"14.00\" fill=\"#414141\">gradients</text>\n</g>\n<!-- mean_squared_error&#45;&gt;gradients -->\n<g id=\"edge16\" class=\"edge\">\n<title>mean_squared_error&#45;&gt;gradients</title>\n<path fill=\"none\" stroke=\"#aaaaaa\" stroke-width=\"2.5\" d=\"M240.6497,-147.2523C262.9451,-136.2553 292.1807,-121.835 315.4692,-110.3481\"/>\n<polygon fill=\"#aaaaaa\" stroke=\"#aaaaaa\" stroke-width=\"2.5\" points=\"317.4634,-114.0477 326.3675,-104.9726 313.7475,-106.5142 317.4634,-114.0477\"/>\n</g>\n<!-- MatMul -->\n<g id=\"node3\" class=\"node\">\n<title>MatMul</title>\n<ellipse fill=\"#ffffff\" stroke=\"#aaaaaa\" stroke-width=\"2\" cx=\"419.6955\" cy=\"-338\" rx=\"40.8928\" ry=\"18\"/>\n<text text-anchor=\"middle\" x=\"419.6955\" y=\"-334.3\" font-family=\"Times,serif\" font-size=\"14.00\" fill=\"#414141\">MatMul</text>\n</g>\n<!-- Add -->\n<g id=\"node11\" class=\"node\">\n<title>Add</title>\n<ellipse fill=\"#ffffff\" stroke=\"#aaaaaa\" stroke-width=\"2\" cx=\"120.6955\" cy=\"-251\" rx=\"27.0966\" ry=\"18\"/>\n<text text-anchor=\"middle\" x=\"120.6955\" y=\"-247.3\" font-family=\"Times,serif\" font-size=\"14.00\" fill=\"#414141\">Add</text>\n</g>\n<!-- MatMul&#45;&gt;Add -->\n<g id=\"edge10\" class=\"edge\">\n<title>MatMul&#45;&gt;Add</title>\n<path fill=\"none\" stroke=\"#aaaaaa\" stroke-width=\"2.5\" d=\"M385.3964,-328.02C328.6862,-311.519 215.8607,-278.6902 157.5273,-261.7169\"/>\n<polygon fill=\"#aaaaaa\" stroke=\"#aaaaaa\" stroke-width=\"2.5\" points=\"158.6421,-257.6672 145.9465,-258.3473 156.2952,-265.7327 158.6421,-257.6672\"/>\n<text text-anchor=\"middle\" x=\"298.6955\" y=\"-290.8\" font-family=\"Times,serif\" font-size=\"14.00\" fill=\"#414141\">?×1</text>\n</g>\n<!-- MatMul&#45;&gt;gradients -->\n<g id=\"edge12\" class=\"edge\">\n<title>MatMul&#45;&gt;gradients</title>\n<path fill=\"none\" stroke=\"#aaaaaa\" stroke-width=\"2.5\" d=\"M421.4775,-319.8525C424.3898,-281.7698 426.8836,-191.6947 393.6955,-127 391.5952,-122.9058 388.8303,-119.0391 385.74,-115.4668\"/>\n<polygon fill=\"#aaaaaa\" stroke=\"#aaaaaa\" stroke-width=\"2.5\" points=\"388.4832,-112.2699 377.0327,-106.7447 382.5384,-118.2046 388.4832,-112.2699\"/>\n<text text-anchor=\"middle\" x=\"429.6955\" y=\"-203.8\" font-family=\"Times,serif\" font-size=\"14.00\" fill=\"#414141\">?×1</text>\n</g>\n<!-- GradientDescent -->\n<g id=\"node4\" class=\"node\">\n<title>GradientDescent</title>\n<ellipse fill=\"#ffffff\" stroke=\"#aaaaaa\" stroke-width=\"2\" cx=\"354.6955\" cy=\"-18\" rx=\"72.2875\" ry=\"18\"/>\n<text text-anchor=\"middle\" x=\"354.6955\" y=\"-14.3\" font-family=\"Times,serif\" font-size=\"14.00\" fill=\"#414141\">GradientDescent</text>\n</g>\n<!-- Variable -->\n<g id=\"node5\" class=\"node\">\n<title>Variable</title>\n<ellipse fill=\"#ffffff\" stroke=\"#aaaaaa\" stroke-width=\"2\" cx=\"488.6955\" cy=\"-425\" rx=\"40.8928\" ry=\"18\"/>\n<text text-anchor=\"middle\" x=\"488.6955\" y=\"-421.3\" font-family=\"Times,serif\" font-size=\"14.00\" fill=\"#414141\">Variable</text>\n</g>\n<!-- Variable&#45;&gt;MatMul -->\n<g id=\"edge1\" class=\"edge\">\n<title>Variable&#45;&gt;MatMul</title>\n<path fill=\"none\" stroke=\"#aaaaaa\" stroke-width=\"2.5\" d=\"M469.532,-408.7059C463.1707,-402.8286 456.2906,-395.929 450.6955,-389 445.0322,-381.9865 439.6378,-373.8498 434.9837,-366.1634\"/>\n<polygon fill=\"#aaaaaa\" stroke=\"#aaaaaa\" stroke-width=\"2.5\" points=\"438.6025,-364.0314 428.9463,-355.761 431.3375,-368.2479 438.6025,-364.0314\"/>\n<text text-anchor=\"middle\" x=\"462.6955\" y=\"-377.8\" font-family=\"Times,serif\" font-size=\"14.00\" fill=\"#414141\">8×1</text>\n</g>\n<!-- Variable&#45;&gt;GradientDescent -->\n<g id=\"edge3\" class=\"edge\">\n<title>Variable&#45;&gt;GradientDescent</title>\n<path fill=\"none\" stroke=\"#aaaaaa\" stroke-width=\"2.5\" d=\"M506.0107,-408.425C521.1376,-392.0893 540.6955,-365.6265 540.6955,-338 540.6955,-338 540.6955,-338 540.6955,-91 540.6955,-64.9577 476.7144,-44.3522 423.8022,-31.7643\"/>\n<polygon fill=\"#aaaaaa\" stroke=\"#aaaaaa\" stroke-width=\"2.5\" points=\"424.6563,-27.6511 412.0193,-29.047 422.7685,-35.8363 424.6563,-27.6511\"/>\n<text text-anchor=\"middle\" x=\"552.6955\" y=\"-203.8\" font-family=\"Times,serif\" font-size=\"14.00\" fill=\"#414141\">8×1</text>\n</g>\n<!-- Variable&#45;&gt;gradients -->\n<g id=\"edge13\" class=\"edge\">\n<title>Variable&#45;&gt;gradients</title>\n<path fill=\"none\" stroke=\"#aaaaaa\" stroke-width=\"2.5\" d=\"M488.6955,-406.6694C488.6955,-389.0629 488.6955,-361.7135 488.6955,-338 488.6955,-338 488.6955,-338 488.6955,-164 488.6955,-125.7521 446.076,-107.427 408.9087,-98.7182\"/>\n<polygon fill=\"#aaaaaa\" stroke=\"#aaaaaa\" stroke-width=\"2.5\" points=\"409.7038,-94.5935 397.0939,-96.2155 407.9631,-102.8112 409.7038,-94.5935\"/>\n<text text-anchor=\"middle\" x=\"500.6955\" y=\"-247.3\" font-family=\"Times,serif\" font-size=\"14.00\" fill=\"#414141\">8×1</text>\n</g>\n<!-- zeros_1 -->\n<g id=\"node6\" class=\"node\">\n<title>zeros_1</title>\n<ellipse fill=\"#ffffff\" stroke=\"#aaaaaa\" stroke-width=\"2\" cx=\"50.6955\" cy=\"-425\" rx=\"39.7935\" ry=\"18\"/>\n<text text-anchor=\"middle\" x=\"50.6955\" y=\"-421.3\" font-family=\"Times,serif\" font-size=\"14.00\" fill=\"#414141\">zeros_1</text>\n</g>\n<!-- Variable_1 -->\n<g id=\"node8\" class=\"node\">\n<title>Variable_1</title>\n<ellipse fill=\"#ffffff\" stroke=\"#aaaaaa\" stroke-width=\"2\" cx=\"50.6955\" cy=\"-338\" rx=\"50.8918\" ry=\"18\"/>\n<text text-anchor=\"middle\" x=\"50.6955\" y=\"-334.3\" font-family=\"Times,serif\" font-size=\"14.00\" fill=\"#414141\">Variable_1</text>\n</g>\n<!-- zeros_1&#45;&gt;Variable_1 -->\n<g id=\"edge7\" class=\"edge\">\n<title>zeros_1&#45;&gt;Variable_1</title>\n<path fill=\"none\" stroke=\"#aaaaaa\" stroke-width=\"2.5\" d=\"M50.6955,-406.9735C50.6955,-395.775 50.6955,-381.0989 50.6955,-368.1642\"/>\n<polygon fill=\"#aaaaaa\" stroke=\"#aaaaaa\" stroke-width=\"2.5\" points=\"54.8956,-368.0033 50.6955,-356.0034 46.4956,-368.0034 54.8956,-368.0033\"/>\n<text text-anchor=\"middle\" x=\"54.6955\" y=\"-377.8\" font-family=\"Times,serif\" font-size=\"14.00\" fill=\"#414141\">1</text>\n</g>\n<!-- zeros -->\n<g id=\"node7\" class=\"node\">\n<title>zeros</title>\n<ellipse fill=\"#ffffff\" stroke=\"#aaaaaa\" stroke-width=\"2\" cx=\"488.6955\" cy=\"-512\" rx=\"29.795\" ry=\"18\"/>\n<text text-anchor=\"middle\" x=\"488.6955\" y=\"-508.3\" font-family=\"Times,serif\" font-size=\"14.00\" fill=\"#414141\">zeros</text>\n</g>\n<!-- zeros&#45;&gt;Variable -->\n<g id=\"edge6\" class=\"edge\">\n<title>zeros&#45;&gt;Variable</title>\n<path fill=\"none\" stroke=\"#aaaaaa\" stroke-width=\"2.5\" d=\"M488.6955,-493.9735C488.6955,-482.775 488.6955,-468.0989 488.6955,-455.1642\"/>\n<polygon fill=\"#aaaaaa\" stroke=\"#aaaaaa\" stroke-width=\"2.5\" points=\"492.8956,-455.0033 488.6955,-443.0034 484.4956,-455.0034 492.8956,-455.0033\"/>\n<text text-anchor=\"middle\" x=\"500.6955\" y=\"-464.8\" font-family=\"Times,serif\" font-size=\"14.00\" fill=\"#414141\">8×1</text>\n</g>\n<!-- Variable_1&#45;&gt;GradientDescent -->\n<g id=\"edge5\" class=\"edge\">\n<title>Variable_1&#45;&gt;GradientDescent</title>\n<path fill=\"none\" stroke=\"#aaaaaa\" stroke-width=\"2.5\" d=\"M45.7007,-319.8264C41.3372,-302.3335 35.6955,-275.0634 35.6955,-251 35.6955,-251 35.6955,-251 35.6955,-91 35.6955,-42.7633 176.0484,-26.3998 270.5597,-20.8491\"/>\n<polygon fill=\"#aaaaaa\" stroke=\"#aaaaaa\" stroke-width=\"2.5\" points=\"270.9572,-25.0337 282.7079,-20.1797 270.495,-16.6464 270.9572,-25.0337\"/>\n<text text-anchor=\"middle\" x=\"39.6955\" y=\"-160.3\" font-family=\"Times,serif\" font-size=\"14.00\" fill=\"#414141\">1</text>\n</g>\n<!-- Variable_1&#45;&gt;Add -->\n<g id=\"edge11\" class=\"edge\">\n<title>Variable_1&#45;&gt;Add</title>\n<path fill=\"none\" stroke=\"#aaaaaa\" stroke-width=\"2.5\" d=\"M64.861,-320.3943C74.9552,-307.8487 88.6845,-290.7852 100.0026,-276.7183\"/>\n<polygon fill=\"#aaaaaa\" stroke=\"#aaaaaa\" stroke-width=\"2.5\" points=\"103.4812,-279.0948 107.7314,-267.1125 96.9366,-273.829 103.4812,-279.0948\"/>\n<text text-anchor=\"middle\" x=\"94.6955\" y=\"-290.8\" font-family=\"Times,serif\" font-size=\"14.00\" fill=\"#414141\">1</text>\n</g>\n<!-- y -->\n<g id=\"node9\" class=\"node\">\n<title>y</title>\n<ellipse fill=\"#ffffff\" stroke=\"#aaaaaa\" stroke-width=\"2\" cx=\"286.6955\" cy=\"-251\" rx=\"27\" ry=\"18\"/>\n<text text-anchor=\"middle\" x=\"286.6955\" y=\"-247.3\" font-family=\"Times,serif\" font-size=\"14.00\" fill=\"#414141\">y</text>\n</g>\n<!-- y&#45;&gt;mean_squared_error -->\n<g id=\"edge8\" class=\"edge\">\n<title>y&#45;&gt;mean_squared_error</title>\n<path fill=\"none\" stroke=\"#aaaaaa\" stroke-width=\"2.5\" d=\"M272.3931,-235.4461C261.038,-223.0974 244.8915,-205.5382 231.4476,-190.9179\"/>\n<polygon fill=\"#aaaaaa\" stroke=\"#aaaaaa\" stroke-width=\"2.5\" points=\"234.2949,-187.8093 223.0808,-181.819 228.1116,-193.4951 234.2949,-187.8093\"/>\n<text text-anchor=\"middle\" x=\"261.6955\" y=\"-203.8\" font-family=\"Times,serif\" font-size=\"14.00\" fill=\"#414141\">?×1</text>\n</g>\n<!-- y&#45;&gt;gradients -->\n<g id=\"edge14\" class=\"edge\">\n<title>y&#45;&gt;gradients</title>\n<path fill=\"none\" stroke=\"#aaaaaa\" stroke-width=\"2.5\" d=\"M294.1021,-233.5726C305.6906,-206.3058 328.2369,-153.2556 342.3205,-120.1175\"/>\n<polygon fill=\"#aaaaaa\" stroke=\"#aaaaaa\" stroke-width=\"2.5\" points=\"346.2621,-121.5811 347.0904,-108.8943 338.5313,-118.2955 346.2621,-121.5811\"/>\n<text text-anchor=\"middle\" x=\"341.6955\" y=\"-160.3\" font-family=\"Times,serif\" font-size=\"14.00\" fill=\"#414141\">?×1</text>\n</g>\n<!-- X -->\n<g id=\"node10\" class=\"node\">\n<title>X</title>\n<ellipse fill=\"#ffffff\" stroke=\"#aaaaaa\" stroke-width=\"2\" cx=\"376.6955\" cy=\"-425\" rx=\"27\" ry=\"18\"/>\n<text text-anchor=\"middle\" x=\"376.6955\" y=\"-421.3\" font-family=\"Times,serif\" font-size=\"14.00\" fill=\"#414141\">X</text>\n</g>\n<!-- X&#45;&gt;MatMul -->\n<g id=\"edge2\" class=\"edge\">\n<title>X&#45;&gt;MatMul</title>\n<path fill=\"none\" stroke=\"#aaaaaa\" stroke-width=\"2.5\" d=\"M384.7187,-407.4379C389.2916,-397.5602 395.1915,-385.0332 400.6955,-374 401.9002,-371.5851 403.1683,-369.0896 404.454,-366.5912\"/>\n<polygon fill=\"#aaaaaa\" stroke=\"#aaaaaa\" stroke-width=\"2.5\" points=\"408.2255,-368.4423 410.0619,-355.8618 400.7811,-364.5513 408.2255,-368.4423\"/>\n<text text-anchor=\"middle\" x=\"411.6955\" y=\"-377.8\" font-family=\"Times,serif\" font-size=\"14.00\" fill=\"#414141\">?×8</text>\n</g>\n<!-- X&#45;&gt;gradients -->\n<g id=\"edge17\" class=\"edge\">\n<title>X&#45;&gt;gradients</title>\n<path fill=\"none\" stroke=\"#aaaaaa\" stroke-width=\"2.5\" d=\"M374.8098,-406.8446C373.3754,-392.9324 371.3698,-373.2575 369.6955,-356 367.368,-332.01 366.3776,-326.0439 364.6955,-302 362.305,-267.8297 358.0785,-171.1748 355.9683,-121.4221\"/>\n<polygon fill=\"#aaaaaa\" stroke=\"#aaaaaa\" stroke-width=\"2.5\" points=\"360.1585,-121.098 355.4562,-109.2858 351.766,-121.4522 360.1585,-121.098\"/>\n<text text-anchor=\"middle\" x=\"372.6955\" y=\"-247.3\" font-family=\"Times,serif\" font-size=\"14.00\" fill=\"#414141\">?×8</text>\n</g>\n<!-- Add&#45;&gt;mean_squared_error -->\n<g id=\"edge9\" class=\"edge\">\n<title>Add&#45;&gt;mean_squared_error</title>\n<path fill=\"none\" stroke=\"#aaaaaa\" stroke-width=\"2.5\" d=\"M135.6756,-235.8458C148.0299,-223.3477 165.8501,-205.3204 180.5489,-190.4506\"/>\n<polygon fill=\"#aaaaaa\" stroke=\"#aaaaaa\" stroke-width=\"2.5\" points=\"183.7717,-193.1647 189.2209,-181.6778 177.7978,-187.2594 183.7717,-193.1647\"/>\n<text text-anchor=\"middle\" x=\"180.6955\" y=\"-203.8\" font-family=\"Times,serif\" font-size=\"14.00\" fill=\"#414141\">?×1</text>\n</g>\n<!-- Add&#45;&gt;gradients -->\n<g id=\"edge15\" class=\"edge\">\n<title>Add&#45;&gt;gradients</title>\n<path fill=\"none\" stroke=\"#aaaaaa\" stroke-width=\"2.5\" d=\"M107.628,-235.0224C91.1131,-212.7914 67.2751,-172.3025 88.6955,-146 114.6454,-114.1356 228.5509,-100.1658 298.6235,-94.4942\"/>\n<polygon fill=\"#aaaaaa\" stroke=\"#aaaaaa\" stroke-width=\"2.5\" points=\"299.1009,-98.67 310.7427,-93.5603 298.4554,-90.2948 299.1009,-98.67\"/>\n<text text-anchor=\"middle\" x=\"99.6955\" y=\"-160.3\" font-family=\"Times,serif\" font-size=\"14.00\" fill=\"#414141\">?×1</text>\n</g>\n<!-- gradients&#45;&gt;GradientDescent -->\n<g id=\"edge4\" class=\"edge\">\n<title>gradients&#45;&gt;GradientDescent</title>\n<path fill=\"none\" stroke=\"#aaaaaa\" stroke-width=\"2.5\" d=\"M354.6955,-72.9551C354.6955,-65.497 354.6955,-56.644 354.6955,-48.2462\"/>\n<polygon fill=\"#aaaaaa\" stroke=\"#aaaaaa\" stroke-width=\"2.5\" points=\"358.8956,-48.0903 354.6955,-36.0904 350.4956,-48.0904 358.8956,-48.0903\"/>\n</g>\n</g>\n</svg>\n"
          },
          "metadata": {
            "tags": []
          },
          "execution_count": 57
        }
      ]
    },
    {
      "metadata": {
        "id": "-rkoC6GAIT6x",
        "colab_type": "text"
      },
      "cell_type": "markdown",
      "source": [
        "## Name scopes\n",
        "\n",
        "The computational graph becomes quite messy with lots of operations. Therefore it can be good to group operations using name scopes."
      ]
    },
    {
      "metadata": {
        "id": "bXGwt5t2IT6y",
        "colab_type": "code",
        "colab": {
          "base_uri": "https://localhost:8080/",
          "height": 612
        },
        "outputId": "a7087f77-5e93-41a0-a5d6-1981c44b17f7"
      },
      "cell_type": "code",
      "source": [
        "reset_graph()\n",
        "\n",
        "with tf.name_scope(\"Variables\") as scope:\n",
        "\n",
        "    X = tf.placeholder(tf.float32, shape=(None, n_features), name='X')\n",
        "    y = tf.placeholder(tf.float32, shape=(None, 1), name='y')\n",
        "\n",
        "    w = tf.Variable(tf.zeros([n_features, 1]))\n",
        "    b = tf.Variable(tf.zeros([1]))\n",
        "\n",
        "with tf.name_scope(\"loss\") as scope:\n",
        "    predictions = tf.add(tf.matmul(X, w), b)\n",
        "    loss = tf.losses.mean_squared_error(y, predictions)\n",
        "\n",
        "with tf.name_scope(\"optimization\") as scope:\n",
        "    learning_rate = 0.1\n",
        "    optimizer = tf.train.GradientDescentOptimizer(learning_rate=learning_rate)\n",
        "    training_operation = optimizer.minimize(loss)\n",
        "\n",
        "training_epochs = 1000  # Number of iteration steps\n",
        "display_step = 100  # Display intermediate results\n",
        "batch_size = 50\n",
        "\n",
        "loss_history = []\n",
        "init = tf.global_variables_initializer()\n",
        "\n",
        "with tf.Session() as sess:\n",
        "    sess.run(init)\n",
        "\n",
        "    for epoch in range(training_epochs):\n",
        "        loss_current = sess.run(loss, feed_dict={X: X_train, y: y_train})\n",
        "        loss_history.append(loss_current)\n",
        "\n",
        "        if (epoch+1) % display_step == 0:\n",
        "            b_current, w_current = sess.run([b, w])\n",
        "            print('Epoch: {}'.format(epoch+1),\n",
        "                  'loss:{:.2}'.format(loss_current))\n",
        "            print('Intercept: {:.3}'.format(b_current[0]),\n",
        "                  'Coefficients: {}'.format(np.around(w_current.T, 2)))\n",
        "\n",
        "        for X_batch, y_batch in batch_iterator(X_train, y_train, batch_size):\n",
        "            sess.run(training_operation, feed_dict={X: X_batch, y: y_batch})\n",
        "\n",
        "    print('\\n\\nOptimization finished\\n\\n')\n",
        "    loss_final, w_final, b_final, predictions_y = sess.run(\n",
        "        [loss, w, b, predictions],\n",
        "        feed_dict={X: X_train, y: y_train})\n",
        "\n",
        "    print('Final loss:\\t\\t {:.4}'.format(loss_final))\n",
        "    print('Intercept:\\t\\t {:.3}'.format(b_final[0]))\n",
        "\n",
        "    for x in zip(predictors, w_final):\n",
        "        print(x[0], ':\\t\\t', round(x[1][0], 3))"
      ],
      "execution_count": 58,
      "outputs": [
        {
          "output_type": "stream",
          "text": [
            "('Epoch: 100', 'loss:1.1e+01')\n",
            "('Intercept: 23.5', 'Coefficients: [[-0.29  2.15 -0.33 -6.33  0.58  2.84  0.94  1.18]]')\n",
            "('Epoch: 200', 'loss:1.1e+01')\n",
            "('Intercept: 23.5', 'Coefficients: [[-0.39  2.23 -0.33 -6.36  0.63  2.88  1.02  1.13]]')\n",
            "('Epoch: 300', 'loss:1.1e+01')\n",
            "('Intercept: 23.4', 'Coefficients: [[-0.39  2.18 -0.31 -6.35  0.63  2.83  1.09  1.12]]')\n",
            "('Epoch: 400', 'loss:1.1e+01')\n",
            "('Intercept: 23.4', 'Coefficients: [[-0.27  2.35 -0.18 -6.29  0.44  2.82  0.92  1.14]]')\n",
            "('Epoch: 500', 'loss:1.1e+01')\n",
            "('Intercept: 23.4', 'Coefficients: [[-0.24  2.33 -0.23 -6.22  0.58  2.86  1.    1.01]]')\n",
            "('Epoch: 600', 'loss:1.1e+01')\n",
            "('Intercept: 23.4', 'Coefficients: [[-0.28  2.32 -0.17 -6.27  0.45  2.86  1.01  1.09]]')\n",
            "('Epoch: 700', 'loss:1.1e+01')\n",
            "('Intercept: 23.5', 'Coefficients: [[-0.37  2.19 -0.37 -6.35  0.65  2.89  0.95  1.15]]')\n",
            "('Epoch: 800', 'loss:1.1e+01')\n",
            "('Intercept: 23.4', 'Coefficients: [[-0.44  2.13 -0.4  -6.44  0.66  2.98  1.06  1.15]]')\n",
            "('Epoch: 900', 'loss:1.1e+01')\n",
            "('Intercept: 23.5', 'Coefficients: [[-0.28  2.31 -0.29 -6.3   0.57  2.85  1.    1.15]]')\n",
            "('Epoch: 1000', 'loss:1.1e+01')\n",
            "('Intercept: 23.4', 'Coefficients: [[-0.17  2.44 -0.18 -6.13  0.43  2.73  0.9   1.03]]')\n",
            "\n",
            "\n",
            "Optimization finished\n",
            "\n",
            "\n",
            "Final loss:\t\t 10.56\n",
            "Intercept:\t\t 23.5\n",
            "('cylinders', ':\\t\\t', -0.268)\n",
            "('displacement', ':\\t\\t', 2.343)\n",
            "('horsepower', ':\\t\\t', -0.241)\n",
            "('weight', ':\\t\\t', -6.227)\n",
            "('acceleration', ':\\t\\t', 0.417)\n",
            "('year', ':\\t\\t', 2.749)\n",
            "('origin_2', ':\\t\\t', 0.957)\n",
            "('origin_3', ':\\t\\t', 1.126)\n"
          ],
          "name": "stdout"
        }
      ]
    },
    {
      "metadata": {
        "id": "7kummrFWIT63",
        "colab_type": "code",
        "colab": {
          "base_uri": "https://localhost:8080/",
          "height": 272
        },
        "outputId": "93c0e7a5-bf39-40f1-a132-973ba0488dc4"
      },
      "cell_type": "code",
      "source": [
        "g = tfg.board(tf.get_default_graph(), depth=1)\n",
        "g"
      ],
      "execution_count": 59,
      "outputs": [
        {
          "output_type": "execute_result",
          "data": {
            "text/plain": [
              "<graphviz.dot.Digraph at 0x7fcb563ef690>"
            ],
            "image/svg+xml": "<?xml version=\"1.0\" encoding=\"UTF-8\" standalone=\"no\"?>\n<!DOCTYPE svg PUBLIC \"-//W3C//DTD SVG 1.1//EN\"\n \"http://www.w3.org/Graphics/SVG/1.1/DTD/svg11.dtd\">\n<!-- Generated by graphviz version 2.40.1 (20161225.0304)\n -->\n<!-- Title: G Pages: 1 -->\n<svg width=\"182pt\" height=\"188pt\"\n viewBox=\"0.00 0.00 181.84 188.00\" xmlns=\"http://www.w3.org/2000/svg\" xmlns:xlink=\"http://www.w3.org/1999/xlink\">\n<g id=\"graph0\" class=\"graph\" transform=\"scale(1 1) rotate(0) translate(4 184)\">\n<title>G</title>\n<polygon fill=\"#ffffff\" stroke=\"transparent\" points=\"-4,4 -4,-184 177.8449,-184 177.8449,4 -4,4\"/>\n<!-- loss -->\n<g id=\"node1\" class=\"node\">\n<title>loss</title>\n<ellipse fill=\"#ffffff\" stroke=\"#aaaaaa\" stroke-width=\"2\" cx=\"30.8449\" cy=\"-90\" rx=\"27\" ry=\"18\"/>\n<text text-anchor=\"middle\" x=\"30.8449\" y=\"-86.3\" font-family=\"Times,serif\" font-size=\"14.00\" fill=\"#414141\">loss</text>\n</g>\n<!-- optimization -->\n<g id=\"node3\" class=\"node\">\n<title>optimization</title>\n<ellipse fill=\"#ffffff\" stroke=\"#aaaaaa\" stroke-width=\"2\" cx=\"57.8449\" cy=\"-18\" rx=\"57.6901\" ry=\"18\"/>\n<text text-anchor=\"middle\" x=\"57.8449\" y=\"-14.3\" font-family=\"Times,serif\" font-size=\"14.00\" fill=\"#414141\">optimization</text>\n</g>\n<!-- loss&#45;&gt;optimization -->\n<g id=\"edge2\" class=\"edge\">\n<title>loss&#45;&gt;optimization</title>\n<path fill=\"none\" stroke=\"#aaaaaa\" stroke-width=\"2.5\" d=\"M37.519,-72.2022C40.3212,-64.7299 43.6557,-55.8378 46.8053,-47.4388\"/>\n<polygon fill=\"#aaaaaa\" stroke=\"#aaaaaa\" stroke-width=\"2.5\" points=\"50.779,-48.8038 51.0599,-36.0931 42.9138,-45.8543 50.779,-48.8038\"/>\n</g>\n<!-- Variables -->\n<g id=\"node2\" class=\"node\">\n<title>Variables</title>\n<ellipse fill=\"#ffffff\" stroke=\"#aaaaaa\" stroke-width=\"2\" cx=\"57.8449\" cy=\"-162\" rx=\"44.393\" ry=\"18\"/>\n<text text-anchor=\"middle\" x=\"57.8449\" y=\"-158.3\" font-family=\"Times,serif\" font-size=\"14.00\" fill=\"#414141\">Variables</text>\n</g>\n<!-- Variables&#45;&gt;loss -->\n<g id=\"edge1\" class=\"edge\">\n<title>Variables&#45;&gt;loss</title>\n<path fill=\"none\" stroke=\"#aaaaaa\" stroke-width=\"2.5\" d=\"M51.1707,-144.2022C48.3261,-136.6167 44.9329,-127.568 41.7414,-119.0573\"/>\n<polygon fill=\"#aaaaaa\" stroke=\"#aaaaaa\" stroke-width=\"2.5\" points=\"45.5884,-117.3542 37.4423,-107.593 37.7232,-120.3037 45.5884,-117.3542\"/>\n</g>\n<!-- Variables&#45;&gt;optimization -->\n<g id=\"edge3\" class=\"edge\">\n<title>Variables&#45;&gt;optimization</title>\n<path fill=\"none\" stroke=\"#aaaaaa\" stroke-width=\"2.5\" d=\"M61.6862,-143.6001C63.6615,-133.2025 65.8571,-119.9346 66.8449,-108 68.1646,-92.0545 68.1646,-87.9455 66.8449,-72 66.2044,-64.2611 65.056,-55.9617 63.7891,-48.2477\"/>\n<polygon fill=\"#aaaaaa\" stroke=\"#aaaaaa\" stroke-width=\"2.5\" points=\"67.9188,-47.4812 61.6862,-36.3999 59.6481,-48.9492 67.9188,-47.4812\"/>\n</g>\n<!-- init -->\n<g id=\"node4\" class=\"node\">\n<title>init</title>\n<ellipse fill=\"#ffffff\" stroke=\"#aaaaaa\" stroke-width=\"2\" cx=\"146.8449\" cy=\"-162\" rx=\"27\" ry=\"18\"/>\n<text text-anchor=\"middle\" x=\"146.8449\" y=\"-158.3\" font-family=\"Times,serif\" font-size=\"14.00\" fill=\"#414141\">init</text>\n</g>\n</g>\n</svg>\n"
          },
          "metadata": {
            "tags": []
          },
          "execution_count": 59
        }
      ]
    },
    {
      "metadata": {
        "id": "cUTR_VhPZnIJ",
        "colab_type": "code",
        "colab": {
          "base_uri": "https://localhost:8080/",
          "height": 612
        },
        "outputId": "866824e5-f0e8-46e0-a4e4-e1d02f2dfb07"
      },
      "cell_type": "code",
      "source": [
        "reset_graph()\n",
        "\n",
        "with tf.name_scope(\"Variables\") as scope:\n",
        "\n",
        "    X = tf.placeholder(tf.float32, shape=(None, n_features), name='X')\n",
        "    y = tf.placeholder(tf.float32, shape=(None, 1), name='y')\n",
        "\n",
        "    w = tf.Variable(tf.zeros([n_features, 1]))\n",
        "    b = tf.Variable(tf.zeros([1]))\n",
        "\n",
        "with tf.name_scope(\"loss\") as scope:\n",
        "    predictions = tf.add(tf.matmul(X, w), b)\n",
        "    loss = tf.losses.mean_squared_error(y, predictions)\n",
        "\n",
        "with tf.name_scope(\"optimization\") as scope:\n",
        "    learning_rate = 0.1\n",
        "    optimizer = tf.train.GradientDescentOptimizer(learning_rate=learning_rate)\n",
        "    training_operation = optimizer.minimize(loss)\n",
        "\n",
        "training_epochs = 1000  # Number of iteration steps\n",
        "display_step = 100  # Display intermediate results\n",
        "batch_size = 50\n",
        "\n",
        "loss_history = []\n",
        "init = tf.global_variables_initializer()\n",
        "\n",
        "with tf.Session() as sess:\n",
        "    sess.run(init)\n",
        "\n",
        "    for epoch in range(training_epochs):\n",
        "        loss_current = sess.run(loss, feed_dict={X: X_train, y: y_train})\n",
        "        loss_history.append(loss_current)\n",
        "\n",
        "        if (epoch+1) % display_step == 0:\n",
        "            b_current, w_current = sess.run([b, w])\n",
        "            print('Epoch: {}'.format(epoch+1),\n",
        "                  'loss:{:.2}'.format(loss_current))\n",
        "            print('Intercept: {:.3}'.format(b_current[0]),\n",
        "                  'Coefficients: {}'.format(np.around(w_current.T, 2)))\n",
        "\n",
        "        for X_batch, y_batch in batch_iterator(X_train, y_train, batch_size):\n",
        "            sess.run(training_operation, feed_dict={X: X_batch, y: y_batch})\n",
        "\n",
        "    print('\\n\\nOptimization finished\\n\\n')\n",
        "    loss_final, w_final, b_final, predictions_y = sess.run(\n",
        "        [loss, w, b, predictions],\n",
        "        feed_dict={X: X_test, y: y_test})\n",
        "\n",
        "    print('Final loss:\\t\\t {:.4}'.format(loss_final))\n",
        "    print('Intercept:\\t\\t {:.3}'.format(b_final[0]))\n",
        "\n",
        "    for x in zip(predictors, w_final):\n",
        "        print(x[0], ':\\t\\t', round(x[1][0], 3))"
      ],
      "execution_count": 60,
      "outputs": [
        {
          "output_type": "stream",
          "text": [
            "('Epoch: 100', 'loss:1.1e+01')\n",
            "('Intercept: 23.5', 'Coefficients: [[-0.29  2.15 -0.33 -6.33  0.58  2.84  0.94  1.18]]')\n",
            "('Epoch: 200', 'loss:1.1e+01')\n",
            "('Intercept: 23.5', 'Coefficients: [[-0.39  2.23 -0.33 -6.36  0.63  2.88  1.02  1.13]]')\n",
            "('Epoch: 300', 'loss:1.1e+01')\n",
            "('Intercept: 23.4', 'Coefficients: [[-0.39  2.18 -0.31 -6.35  0.63  2.83  1.09  1.12]]')\n",
            "('Epoch: 400', 'loss:1.1e+01')\n",
            "('Intercept: 23.4', 'Coefficients: [[-0.27  2.35 -0.18 -6.29  0.44  2.82  0.92  1.14]]')\n",
            "('Epoch: 500', 'loss:1.1e+01')\n",
            "('Intercept: 23.4', 'Coefficients: [[-0.24  2.33 -0.23 -6.22  0.58  2.86  1.    1.01]]')\n",
            "('Epoch: 600', 'loss:1.1e+01')\n",
            "('Intercept: 23.4', 'Coefficients: [[-0.28  2.32 -0.17 -6.27  0.45  2.86  1.01  1.09]]')\n",
            "('Epoch: 700', 'loss:1.1e+01')\n",
            "('Intercept: 23.5', 'Coefficients: [[-0.37  2.19 -0.37 -6.35  0.65  2.89  0.95  1.15]]')\n",
            "('Epoch: 800', 'loss:1.1e+01')\n",
            "('Intercept: 23.4', 'Coefficients: [[-0.44  2.13 -0.4  -6.44  0.66  2.98  1.06  1.15]]')\n",
            "('Epoch: 900', 'loss:1.1e+01')\n",
            "('Intercept: 23.5', 'Coefficients: [[-0.28  2.31 -0.29 -6.3   0.57  2.85  1.    1.15]]')\n",
            "('Epoch: 1000', 'loss:1.1e+01')\n",
            "('Intercept: 23.4', 'Coefficients: [[-0.17  2.44 -0.18 -6.13  0.43  2.73  0.9   1.03]]')\n",
            "\n",
            "\n",
            "Optimization finished\n",
            "\n",
            "\n",
            "Final loss:\t\t 11.94\n",
            "Intercept:\t\t 23.5\n",
            "('cylinders', ':\\t\\t', -0.268)\n",
            "('displacement', ':\\t\\t', 2.343)\n",
            "('horsepower', ':\\t\\t', -0.241)\n",
            "('weight', ':\\t\\t', -6.227)\n",
            "('acceleration', ':\\t\\t', 0.417)\n",
            "('year', ':\\t\\t', 2.749)\n",
            "('origin_2', ':\\t\\t', 0.957)\n",
            "('origin_3', ':\\t\\t', 1.126)\n"
          ],
          "name": "stdout"
        }
      ]
    },
    {
      "metadata": {
        "id": "kMZ5mhe3aJO3",
        "colab_type": "code",
        "colab": {
          "base_uri": "https://localhost:8080/",
          "height": 289
        },
        "outputId": "0e4346ac-0af7-4da7-89a9-606fb6107d80"
      },
      "cell_type": "code",
      "source": [
        "fig, ax = plt.subplots()\n",
        "ax.scatter(y_test, predictions_y)\n",
        "ax.plot([y_test.min(), y_test.max()], [\n",
        "        y_test.min(), y_test.max()], 'k--', lw=3)\n",
        "ax.set_xlabel('y')\n",
        "ax.set_ylabel(r'$\\hat{y}$')\n",
        "plt.show()"
      ],
      "execution_count": 61,
      "outputs": [
        {
          "output_type": "display_data",
          "data": {
            "image/png": "[encoded data removed]",
            "text/plain": [
              "<Figure size 432x288 with 1 Axes>"
            ]
          },
          "metadata": {
            "tags": [],
            "image/png": {
              "width": 397,
              "height": 272
            }
          }
        }
      ]
    },
    {
      "metadata": {
        "id": "yHw_fzheIT67",
        "colab_type": "text"
      },
      "cell_type": "markdown",
      "source": [
        "## Resources\n",
        "\n",
        "An excellent introduction to TensorFlow and neural networks can be found at https://github.com/ageron/handson-ml, the related book reference is\n",
        "\n",
        "A. Geron: Hands-on Machine Learning with Scikit-Learn and TensorFlow, O'Reilly, 2017\n",
        "\n",
        "Chapters 9, 10 and 11 inspired a lot of the material found in this course."
      ]
    }
  ]
}